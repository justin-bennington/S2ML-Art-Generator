{
  "nbformat": 4,
  "nbformat_minor": 0,
  "metadata": {
    "colab": {
      "provenance": [],
      "gpuType": "T4",
      "include_colab_link": true
    },
    "kernelspec": {
      "name": "python3",
      "display_name": "Python 3"
    },
    "language_info": {
      "name": "python"
    },
    "accelerator": "GPU"
  },
  "cells": [
    {
      "cell_type": "markdown",
      "metadata": {
        "id": "view-in-github",
        "colab_type": "text"
      },
      "source": [
        "<a href=\"https://colab.research.google.com/github/somewheresy/S2ML-Generators/blob/main/ControlNet_Image_Synthesis.ipynb\" target=\"_parent\"><img src=\"https://colab.research.google.com/assets/colab-badge.svg\" alt=\"Open In Colab\"/></a>"
      ]
    },
    {
      "cell_type": "markdown",
      "source": [
        "# Basic pipeline for performing ControlNet illusions on Google Colab using HF/transformers"
      ],
      "metadata": {
        "id": "MYKVJ8DsYuSD"
      }
    },
    {
      "cell_type": "code",
      "execution_count": null,
      "metadata": {
        "id": "nBYitSyqXj4P"
      },
      "outputs": [],
      "source": [
        "# @markdown Install libraries\n",
        "!pip install diffusers accelerate transformers"
      ]
    },
    {
      "cell_type": "code",
      "source": [
        "# @markdown Set up model and pipeline\n",
        "\n",
        "from diffusers import StableDiffusionControlNetPipeline, ControlNetModel\n",
        "import torch\n",
        "\n",
        "controlnet = ControlNetModel.from_pretrained(\"monster-labs/control_v1p_sd15_qrcode_monster\", torch_dtype=torch.float16)\n",
        "sd_pipeline = StableDiffusionControlNetPipeline.from_pretrained(\n",
        "    \"runwayml/stable-diffusion-v1-5\", controlnet=controlnet, torch_dtype=torch.float16\n",
        ").to(\"cuda\")"
      ],
      "metadata": {
        "id": "rNHs98TFXyYb"
      },
      "execution_count": null,
      "outputs": []
    },
    {
      "cell_type": "code",
      "source": [
        "# @title Generate and Display Image\n",
        "from diffusers.utils import load_image\n",
        "IMAGE = \"/content/mask.png\" # @param {type: \"string\"}\n",
        "INFERENCE_STEPS = 40 #@param {type: \"number\"}\n",
        "CONDITIONING_SCALE = 1.0 #@param {type: \"number\"}\n",
        "img = load_image(IMAGE)\n",
        "PROMPT = \"smoke in guangzhou mountains, fog, cinematic\" #@param {type:\"string\"}\n",
        "image = sd_pipeline(\n",
        "    PROMPT,\n",
        "    img,\n",
        "    num_inference_steps=INFERENCE_STEPS,\n",
        "    controlnet_conditioning_scale=CONDITIONING_SCALE,\n",
        ").images[0]\n",
        "\n",
        "image"
      ],
      "metadata": {
        "id": "KlQBjDPCajpc"
      },
      "execution_count": null,
      "outputs": []
    }
  ]
}